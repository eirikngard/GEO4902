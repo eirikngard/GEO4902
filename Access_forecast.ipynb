{
  "nbformat": 4,
  "nbformat_minor": 0,
  "metadata": {
    "colab": {
      "name": "Access_forecast.ipynb",
      "provenance": [],
      "authorship_tag": "ABX9TyM3g3F802cEb7inVzAewq5S",
      "include_colab_link": true
    },
    "kernelspec": {
      "name": "python3",
      "display_name": "Python 3"
    }
  },
  "cells": [
    {
      "cell_type": "markdown",
      "metadata": {
        "id": "view-in-github",
        "colab_type": "text"
      },
      "source": [
        "<a href=\"https://colab.research.google.com/github/eirikngard/GEO4902/blob/master/Access_forecast.ipynb\" target=\"_parent\"><img src=\"https://colab.research.google.com/assets/colab-badge.svg\" alt=\"Open In Colab\"/></a>"
      ]
    },
    {
      "cell_type": "markdown",
      "metadata": {
        "id": "YgggxbfFet9t",
        "colab_type": "text"
      },
      "source": [
        "Access and plot AROME Arctic weather forecasts"
      ]
    },
    {
      "cell_type": "code",
      "metadata": {
        "id": "NjV4kIoRe4U9",
        "colab_type": "code",
        "colab": {}
      },
      "source": [
        "# Activate the following in colab : \n",
        "!pip3 install netCDF4\n",
        "!apt install proj-bin libproj-dev libgeos-dev\n",
        "!pip install https://github.com/matplotlib/basemap/archive/master.zip\n",
        "    \n",
        "import xarray as xr "
      ],
      "execution_count": null,
      "outputs": []
    },
    {
      "cell_type": "markdown",
      "metadata": {
        "id": "5XdFWd_he_LT",
        "colab_type": "text"
      },
      "source": [
        "Specify the file on the thredds server. For example the full file of latest forecast of the AROME Arctic weather model. Note, at this point only metadata is retrieved"
      ]
    },
    {
      "cell_type": "code",
      "metadata": {
        "id": "0VsreG4ufCvX",
        "colab_type": "code",
        "colab": {}
      },
      "source": [
        "url='https://thredds.met.no/thredds/dodsC/aromearcticlatest/arome_arctic_full_2_5km_latest.nc'\n",
        "dataset = xr.open_dataset(url)"
      ],
      "execution_count": null,
      "outputs": []
    },
    {
      "cell_type": "markdown",
      "metadata": {
        "id": "A1y5QfSqjqVX",
        "colab_type": "text"
      },
      "source": [
        "Metadata"
      ]
    },
    {
      "cell_type": "code",
      "metadata": {
        "id": "xILehC4tjt7D",
        "colab_type": "code",
        "colab": {}
      },
      "source": [
        "dataset"
      ],
      "execution_count": null,
      "outputs": []
    },
    {
      "cell_type": "markdown",
      "metadata": {
        "id": "UixocgI6jvZn",
        "colab_type": "text"
      },
      "source": [
        ""
      ]
    }
  ]
}